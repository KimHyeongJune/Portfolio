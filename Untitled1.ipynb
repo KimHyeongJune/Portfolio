{
 "cells": [
  {
   "cell_type": "code",
   "execution_count": 3,
   "id": "b3a00857-ad00-49c6-ab98-019df1d25f3a",
   "metadata": {},
   "outputs": [
    {
     "name": "stdout",
     "output_type": "stream",
     "text": [
      " C 드라이브의 볼륨: 로컬 디스크\n",
      " 볼륨 일련 번호: C43C-B743\n",
      "\n",
      " C:\\Users\\6200007\\Desktop\\python_class 디렉터리\n",
      "\n",
      "2022-08-23  오후 01:44    <DIR>          .\n",
      "2022-08-23  오후 01:44    <DIR>          ..\n",
      "2022-08-23  오후 01:18    <DIR>          .ipynb_checkpoints\n",
      "2022-08-23  오전 11:42               958 Untitled.ipynb\n",
      "2022-08-23  오후 01:44             1,380 Untitled1.ipynb\n",
      "               2개 파일               2,338 바이트\n",
      "               3개 디렉터리  162,264,805,376 바이트 남음\n"
     ]
    }
   ],
   "source": [
    "!dir"
   ]
  },
  {
   "cell_type": "markdown",
   "id": "cfa3308e-efd6-44f2-b68f-4dbbc5f6a7ce",
   "metadata": {
    "tags": []
   },
   "source": [
    "# Python 수업\n",
    "## 셀에대해 배워봅시다"
   ]
  },
  {
   "cell_type": "markdown",
   "id": "15200842-378a-4920-84da-823016e2a14d",
   "metadata": {},
   "source": [
    "## 문법"
   ]
  },
  {
   "cell_type": "markdown",
   "id": "5f22a859-2339-44a0-beb7-6ab84d0b9d48",
   "metadata": {},
   "source": [
    "## Jupyter Lab 알아보기\n",
    "## Jupyter Lab Extention (확장프로그램) 설치하기"
   ]
  }
 ],
 "metadata": {
  "kernelspec": {
   "display_name": "Python 3 (ipykernel)",
   "language": "python",
   "name": "python3"
  },
  "language_info": {
   "codemirror_mode": {
    "name": "ipython",
    "version": 3
   },
   "file_extension": ".py",
   "mimetype": "text/x-python",
   "name": "python",
   "nbconvert_exporter": "python",
   "pygments_lexer": "ipython3",
   "version": "3.9.12"
  },
  "toc-autonumbering": true
 },
 "nbformat": 4,
 "nbformat_minor": 5
}
