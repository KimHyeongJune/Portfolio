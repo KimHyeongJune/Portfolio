{
 "cells": [
  {
   "cell_type": "code",
   "execution_count": 3,
   "id": "b3a00857-ad00-49c6-ab98-019df1d25f3a",
   "metadata": {},
   "outputs": [
    {
     "name": "stdout",
     "output_type": "stream",
     "text": [
      " C 드라이브의 볼륨: 로컬 디스크\n",
      " 볼륨 일련 번호: C43C-B743\n",
      "\n",
      " C:\\Users\\6200007\\Desktop\\python_class 디렉터리\n",
      "\n",
      "2022-08-23  오후 01:44    <DIR>          .\n",
      "2022-08-23  오후 01:44    <DIR>          ..\n",
      "2022-08-23  오후 01:18    <DIR>          .ipynb_checkpoints\n",
      "2022-08-23  오전 11:42               958 Untitled.ipynb\n",
      "2022-08-23  오후 01:44             1,380 Untitled1.ipynb\n",
      "               2개 파일               2,338 바이트\n",
      "               3개 디렉터리  162,264,805,376 바이트 남음\n"
     ]
    }
   ],
   "source": [
    "!dir"
   ]
  },
  {
   "cell_type": "markdown",
   "id": "cfa3308e-efd6-44f2-b68f-4dbbc5f6a7ce",
   "metadata": {
    "tags": []
   },
   "source": [
    "# Python 수업\n",
    "## 셀에대해 배워봅시다"
   ]
  },
  {
   "cell_type": "markdown",
   "id": "15200842-378a-4920-84da-823016e2a14d",
   "metadata": {},
   "source": [
    "## 문법"
   ]
  },
  {
   "cell_type": "markdown",
   "id": "5f22a859-2339-44a0-beb7-6ab84d0b9d48",
   "metadata": {},
   "source": [
    "## Jupyter Lab 알아보기\n",
    "## Jupyter Lab Extention (확장프로그램) 설치하기"
   ]
  },
  {
   "cell_type": "markdown",
   "id": "d2beb94e-4afe-4ec2-bc67-a60da04a23e9",
   "metadata": {},
   "source": [
    "## if 구문"
   ]
  },
  {
   "cell_type": "code",
   "execution_count": 7,
   "id": "1972fcbc-8e64-4627-9fb2-30fb324236b3",
   "metadata": {},
   "outputs": [
    {
     "name": "stdout",
     "output_type": "stream",
     "text": [
      "-- if문 연습하기\n",
      "괴물 : 영화 괴물은 송강호가 출현한 영화이다\n",
      "-- if문과 동일 level이므로 이녀석도 출력되어야한다\n"
     ]
    }
   ],
   "source": [
    "# if문 연습\n",
    "print(\"-- if문 연습하기\")\n",
    "title = \"영화 괴물은 송강호가 출현한 영화이다\"\n",
    "if \"안녕\" in title :\n",
    "    print(\"안녕 : \" + title)\n",
    "elif \"괴물\" in title :\n",
    "    print(\"괴물 : \" + title)\n",
    "else :\n",
    "    print(title + \"에는 안녕, 괴물 문구가 없다.\")\n",
    "print(\"-- if문과 동일 level이므로 이녀석도 출력되어야한다\")"
   ]
  },
  {
   "cell_type": "markdown",
   "id": "698922b3-e59b-4426-b844-e513a028b7d6",
   "metadata": {},
   "source": [
    "## for 구문"
   ]
  },
  {
   "cell_type": "code",
   "execution_count": 11,
   "id": "8f4f149f-78f0-4912-939e-9a55eb6051f3",
   "metadata": {},
   "outputs": [
    {
     "name": "stdout",
     "output_type": "stream",
     "text": [
      "-- for문 연습하기\n",
      "헌트는 본편입니다.\n",
      "육사오는 본편입니다.\n",
      "미니언즈2는 속편입니다.\n",
      "공조2는 속편입니다.\n",
      "-- 영화 리스트 끗\n"
     ]
    }
   ],
   "source": [
    "#for문 연습\n",
    "print(\"-- for문 연습하기\")\n",
    "sceneList = [\"헌트\",\"육사오\",\"미니언즈2\",\"공조2\"]\n",
    "for scene in sceneList:\n",
    "    if(\"2\" in scene):\n",
    "        print(scene + \"는 속편입니다.\")\n",
    "    else:\n",
    "        print(scene + \"는 본편입니다.\")\n",
    "print(\"-- 영화 리스트 끗\")"
   ]
  },
  {
   "cell_type": "markdown",
   "id": "37c081a5-a083-4efb-bad4-730d60ff80a8",
   "metadata": {},
   "source": [
    "- 0부터 10까지"
   ]
  },
  {
   "cell_type": "code",
   "execution_count": 31,
   "id": "1cb5d50e-9185-4eca-9953-2dc85c08114b",
   "metadata": {},
   "outputs": [
    {
     "name": "stdout",
     "output_type": "stream",
     "text": [
      "0\n",
      "2\n",
      "4\n",
      "6\n",
      "8\n",
      "10\n"
     ]
    }
   ],
   "source": [
    "for tmp_var in range(0, 11, 2):\n",
    "    print(tmp_var)"
   ]
  },
  {
   "cell_type": "markdown",
   "id": "4f980ee8-988f-4189-9a28-d0ee1c4d4ade",
   "metadata": {},
   "source": [
    "- 50부터 60까지"
   ]
  },
  {
   "cell_type": "code",
   "execution_count": 24,
   "id": "88f05f96-ffcb-40d6-a94c-7927efdcac66",
   "metadata": {},
   "outputs": [
    {
     "name": "stdout",
     "output_type": "stream",
     "text": [
      "50\n",
      "51\n",
      "52\n",
      "53\n",
      "54\n",
      "55\n",
      "56\n",
      "57\n",
      "58\n",
      "59\n",
      "60\n"
     ]
    }
   ],
   "source": [
    "for tmp_var2 in range(50,61):\n",
    "    print(tmp_var2)"
   ]
  },
  {
   "cell_type": "markdown",
   "id": "74afa6a8-2ca6-4bfb-afbe-7ceff237a621",
   "metadata": {},
   "source": [
    "- 90부터 100까지 짝수만"
   ]
  },
  {
   "cell_type": "code",
   "execution_count": 32,
   "id": "3657d6e0-590e-4498-a0ce-0592478d3545",
   "metadata": {},
   "outputs": [
    {
     "name": "stdout",
     "output_type": "stream",
     "text": [
      "if문으로 짝수 구하기\n",
      "90\n",
      "92\n",
      "94\n",
      "96\n",
      "98\n",
      "100\n",
      "range 함수로 짝수 구하기\n",
      "90\n",
      "92\n",
      "94\n",
      "96\n",
      "98\n",
      "100\n"
     ]
    }
   ],
   "source": [
    "# 짝수 표시 if문으로 하는 방법\n",
    "print(\"if문으로 짝수 구하기\")\n",
    "for tmp_var3  in range(90,101):\n",
    "    if(tmp_var3 % 2 == 0):\n",
    "        print(tmp_var3)\n",
    "# 짝수 표시 range 함수의 변수로 하는 방법\n",
    "print(\"range 함수로 짝수 구하기\")\n",
    "for tmp_var4 in range(90, 101, 2):\n",
    "    print(tmp_var4)"
   ]
  },
  {
   "cell_type": "markdown",
   "id": "2431c6fc-0295-4e31-82cb-a88c44a486d3",
   "metadata": {},
   "source": [
    "## break와 continue\n",
    "### break"
   ]
  },
  {
   "cell_type": "code",
   "execution_count": 40,
   "id": "543cd7ab-bae6-4350-8c05-f447a52c7f67",
   "metadata": {},
   "outputs": [
    {
     "name": "stdout",
     "output_type": "stream",
     "text": [
      "0\n",
      "1\n",
      "2\n",
      "3\n",
      "4\n"
     ]
    }
   ],
   "source": [
    "printCnt = 0\n",
    "for tmp_var5 in range(11):\n",
    "    print(tmp_var5)\n",
    "    printCnt += 1 # printCnt = printCnt + 1\n",
    "    if(printCnt == 5):\n",
    "        break    "
   ]
  },
  {
   "cell_type": "markdown",
   "id": "1a5a0d80-342b-41fb-819e-0187ca3d20ef",
   "metadata": {},
   "source": [
    "### continue"
   ]
  },
  {
   "cell_type": "code",
   "execution_count": 39,
   "id": "020e573d-6c22-48a7-ac57-ae2b054726eb",
   "metadata": {
    "tags": []
   },
   "outputs": [
    {
     "name": "stdout",
     "output_type": "stream",
     "text": [
      "-- 짝수 추출하기. 홀수면 continue\n",
      "0\n",
      "2\n",
      "4\n",
      "6\n",
      "8\n",
      "10\n"
     ]
    }
   ],
   "source": [
    "print(\"-- 짝수 추출하기. 홀수면 continue\")\n",
    "for tmp_var6 in range(11):\n",
    "    if(tmp_var6 % 2 == 1):\n",
    "        continue\n",
    "    print(tmp_var6)"
   ]
  },
  {
   "cell_type": "markdown",
   "id": "84762596-47c3-4e70-a5f9-18862b3c10c8",
   "metadata": {},
   "source": [
    "### break && continue"
   ]
  },
  {
   "cell_type": "code",
   "execution_count": 47,
   "id": "0f47db21-4142-4866-86ee-db2346797c04",
   "metadata": {},
   "outputs": [
    {
     "name": "stdout",
     "output_type": "stream",
     "text": [
      "-- 0부터 50 숫자 중 홀수이면서 3의 배수인 숫자만 최대 5개 추출하기\n",
      "3\n",
      "9\n",
      "15\n",
      "21\n",
      "27\n"
     ]
    }
   ],
   "source": [
    "print(\"-- 0부터 50 숫자 중 홀수이면서 3의 배수인 숫자만 최대 5개 추출하기\")\n",
    "printCnt = 0\n",
    "for tmp_var7 in range(0, 51):\n",
    "    if(tmp_var7 % 2 == 0 or tmp_var7 % 3 != 0):\n",
    "        continue\n",
    "    print(tmp_var7)\n",
    "    printCnt += 1 # printCnt = printCnt + 1\n",
    "    if(printCnt == 5):\n",
    "        break    "
   ]
  },
  {
   "cell_type": "markdown",
   "id": "3e0a7483-eed3-4ff4-a510-95ab4f8b65ed",
   "metadata": {},
   "source": [
    "### List comprehension"
   ]
  },
  {
   "cell_type": "code",
   "execution_count": 51,
   "id": "cc5a28d2-73c3-45ca-8e59-7ed31bd20b30",
   "metadata": {},
   "outputs": [
    {
     "data": {
      "text/plain": [
       "[0, 1, 2, 3, 4, 5, 6, 7, 8, 9, 10]"
      ]
     },
     "execution_count": 51,
     "metadata": {},
     "output_type": "execute_result"
    }
   ],
   "source": [
    "# for문을 사용한 list append\n",
    "numList = []\n",
    "for i in range(11):\n",
    "    numList.append(i)\n",
    "numList"
   ]
  },
  {
   "cell_type": "code",
   "execution_count": 54,
   "id": "f08620ac-e8d1-483d-97fc-0f03809cc266",
   "metadata": {},
   "outputs": [
    {
     "data": {
      "text/plain": [
       "[0, 1, 2, 3, 4, 5, 6, 7, 8, 9, 10]"
      ]
     },
     "execution_count": 54,
     "metadata": {},
     "output_type": "execute_result"
    }
   ],
   "source": [
    "# list comprehension을 사용한 정의\n",
    "[numList2 for numList2 in range(11)]"
   ]
  },
  {
   "cell_type": "code",
   "execution_count": 57,
   "id": "eb588db7-e34e-4441-8d8a-440802d283bc",
   "metadata": {},
   "outputs": [
    {
     "data": {
      "text/plain": [
       "[0, 2, 4, 6, 8, 10, 12, 14]"
      ]
     },
     "execution_count": 57,
     "metadata": {},
     "output_type": "execute_result"
    }
   ],
   "source": [
    "# for문을 사용한 list append (짝수만)\n",
    "numList = []\n",
    "for i in range(15):\n",
    "    if i%2==0:\n",
    "        numList.append(i)\n",
    "numList"
   ]
  },
  {
   "cell_type": "code",
   "execution_count": 58,
   "id": "04de7ae5-513e-4239-8380-6483b6f1d6cc",
   "metadata": {},
   "outputs": [
    {
     "data": {
      "text/plain": [
       "[0, 2, 4, 6, 8, 10, 12, 14]"
      ]
     },
     "execution_count": 58,
     "metadata": {},
     "output_type": "execute_result"
    }
   ],
   "source": [
    "# list comprehension에 if 조건 추가 (짝수만)\n",
    "[numList3 for numList3 in range(15) if numList3%2==0]"
   ]
  },
  {
   "cell_type": "markdown",
   "id": "6aea7321-35d6-4bdd-ab0f-995bb540be81",
   "metadata": {},
   "source": [
    "## while 구문"
   ]
  },
  {
   "cell_type": "code",
   "execution_count": 69,
   "id": "a636260f-7670-4c44-abba-a8aeddc42037",
   "metadata": {},
   "outputs": [
    {
     "name": "stdout",
     "output_type": "stream",
     "text": [
      "-- 0부터 50 숫자 중 홀수이면서 3의 배수인 숫자만 최대 5개 추출하기\n",
      "3\n",
      "9\n",
      "15\n",
      "21\n",
      "27\n"
     ]
    }
   ],
   "source": [
    "# for문에서 사용했던 예제를 while로 변경\n",
    "print(\"-- 0부터 50 숫자 중 홀수이면서 3의 배수인 숫자만 최대 5개 추출하기\")\n",
    "a = 0\n",
    "printCnt = 0\n",
    "numList4 = range(51)\n",
    "while a < 51:\n",
    "    b = numList4[a]\n",
    "    if b % 2 == 1 and b % 3 == 0 : # 홀수이면서 3의 배수 조건식\n",
    "        print(b)\n",
    "        printCnt += 1 \n",
    "    if printCnt == 5 : # 5번 호출이 되었다면 while문에서 빠져나오도록\n",
    "        break\n",
    "    a += 1"
   ]
  },
  {
   "cell_type": "code",
   "execution_count": null,
   "id": "2edc8ffd-2c95-4da7-8ccb-921d635e6286",
   "metadata": {},
   "outputs": [],
   "source": []
  }
 ],
 "metadata": {
  "kernelspec": {
   "display_name": "Python 3 (ipykernel)",
   "language": "python",
   "name": "python3"
  },
  "language_info": {
   "codemirror_mode": {
    "name": "ipython",
    "version": 3
   },
   "file_extension": ".py",
   "mimetype": "text/x-python",
   "name": "python",
   "nbconvert_exporter": "python",
   "pygments_lexer": "ipython3",
   "version": "3.9.12"
  },
  "toc-autonumbering": true
 },
 "nbformat": 4,
 "nbformat_minor": 5
}
